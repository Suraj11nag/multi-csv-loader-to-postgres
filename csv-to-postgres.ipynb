{
 "cells": [
  {
   "cell_type": "code",
   "execution_count": 1,
   "metadata": {},
   "outputs": [
    {
     "name": "stdout",
     "output_type": "stream",
     "text": [
      "Requirement already satisfied: pandas in /Users/surajnag/anaconda3/lib/python3.10/site-packages (1.5.3)\n",
      "Requirement already satisfied: sqlalchemy in /Users/surajnag/anaconda3/lib/python3.10/site-packages (1.4.39)\n",
      "Collecting psycopg2\n",
      "  Downloading psycopg2-2.9.9.tar.gz (384 kB)\n",
      "\u001b[2K     \u001b[90m━━━━━━━━━━━━━━━━━━━━━━━━━━━━━━━━━━━━━━━\u001b[0m \u001b[32m384.9/384.9 kB\u001b[0m \u001b[31m2.0 MB/s\u001b[0m eta \u001b[36m0:00:00\u001b[0ma \u001b[36m0:00:01\u001b[0m\n",
      "\u001b[?25h  Preparing metadata (setup.py) ... \u001b[?25ldone\n",
      "\u001b[?25hRequirement already satisfied: python-dateutil>=2.8.1 in /Users/surajnag/anaconda3/lib/python3.10/site-packages (from pandas) (2.8.2)\n",
      "Requirement already satisfied: pytz>=2020.1 in /Users/surajnag/anaconda3/lib/python3.10/site-packages (from pandas) (2022.7)\n",
      "Requirement already satisfied: numpy>=1.21.0 in /Users/surajnag/anaconda3/lib/python3.10/site-packages (from pandas) (1.23.5)\n",
      "Requirement already satisfied: six>=1.5 in /Users/surajnag/anaconda3/lib/python3.10/site-packages (from python-dateutil>=2.8.1->pandas) (1.16.0)\n",
      "Building wheels for collected packages: psycopg2\n",
      "  Building wheel for psycopg2 (setup.py) ... \u001b[?25ldone\n",
      "\u001b[?25h  Created wheel for psycopg2: filename=psycopg2-2.9.9-cp310-cp310-macosx_11_0_arm64.whl size=132043 sha256=ff69dc8a4335ee795d602a7db152919d8881c93a10ace31a2211521582758d93\n",
      "  Stored in directory: /Users/surajnag/Library/Caches/pip/wheels/c1/1b/5c/2cefd15b5ebe3f312867bc3ffd6f52ab59d3366e28973ba603\n",
      "Successfully built psycopg2\n",
      "Installing collected packages: psycopg2\n",
      "Successfully installed psycopg2-2.9.9\n",
      "Note: you may need to restart the kernel to use updated packages.\n"
     ]
    }
   ],
   "source": [
    "pip install pandas sqlalchemy psycopg2"
   ]
  },
  {
   "cell_type": "code",
   "execution_count": 3,
   "metadata": {},
   "outputs": [
    {
     "name": "stdout",
     "output_type": "stream",
     "text": [
      "Data from Olympic_Athlete_Bio.csv has been inserted into raw.Olympic_Athlete_Bio table in postgres database.\n",
      "Data from Olympic_Athlete_Event_Results.csv has been inserted into raw.Olympic_Athlete_Event_Results table in postgres database.\n",
      "Data from Olympic_Games_Medal_Tally.csv has been inserted into raw.Olympic_Games_Medal_Tally table in postgres database.\n",
      "Data from Olympic_Results.csv has been inserted into raw.Olympic_Results table in postgres database.\n",
      "Data from Olympics_Country.csv has been inserted into raw.Olympics_Country table in postgres database.\n",
      "Data from Olympics_Games.csv has been inserted into raw.Olympics_Games table in postgres database.\n"
     ]
    }
   ],
   "source": [
    "import pandas as pd\n",
    "from sqlalchemy import create_engine\n",
    "\n",
    "# Define your CSV file path\n",
    "csv_file_path = 'path/to/your/file.csv'\n",
    "\n",
    "# Define your PostgreSQL connection details\n",
    "postgres_user = '######'  # Replace with your actual username\n",
    "postgres_password = 'user'  # Replace with your actual password\n",
    "postgres_host = 'localhost'\n",
    "postgres_port = '5432'\n",
    "postgres_db = 'postgres'  # Replace with your actual database name\n",
    "\n",
    "# Create a connection string\n",
    "connection_string = f'postgresql://{postgres_user}:{postgres_password}@{postgres_host}:{postgres_port}/{postgres_db}'\n",
    "\n",
    "# Create an SQLAlchemy engine\n",
    "engine = create_engine(connection_string)\n",
    "\n",
    "# Read the CSV file into a DataFrame\n",
    "df = pd.read_csv('Olympic_Athlete_Bio.csv')\n",
    "\n",
    "# Define the schema name\n",
    "schema_name = 'raw'  # Replace with your actual schema name\n",
    "\n",
    "# List of CSV files and corresponding table names\n",
    "csv_files = [\n",
    "    ('Olympic_Athlete_Bio.csv', 'Olympic_Athlete_Bio'),\n",
    "    ('Olympic_Athlete_Event_Results.csv', 'Olympic_Athlete_Event_Results'),\n",
    "    ('Olympic_Games_Medal_Tally.csv', 'Olympic_Games_Medal_Tally'),\n",
    "    ('Olympic_Results.csv', 'Olympic_Results'),\n",
    "    ('Olympics_Country.csv', 'Olympics_Country'),\n",
    "    ('Olympics_Games.csv', 'Olympics_Games')\n",
    "]\n",
    "\n",
    "# Loop through each CSV file and insert it into the corresponding table in the schema\n",
    "for csv_file_path, table_name in csv_files:\n",
    "    # Read the CSV file into a DataFrame\n",
    "    df = pd.read_csv(csv_file_path)\n",
    "    \n",
    "    # Insert the DataFrame into the PostgreSQL table with specified schema\n",
    "    df.to_sql(table_name, engine, if_exists='replace', index=False, schema=schema_name)\n",
    "    \n",
    "    print(f\"Data from {csv_file_path} has been inserted into {schema_name}.{table_name} table in {postgres_db} database.\")"
   ]
  }
 ],
 "metadata": {
  "kernelspec": {
   "display_name": "base",
   "language": "python",
   "name": "python3"
  },
  "language_info": {
   "codemirror_mode": {
    "name": "ipython",
    "version": 3
   },
   "file_extension": ".py",
   "mimetype": "text/x-python",
   "name": "python",
   "nbconvert_exporter": "python",
   "pygments_lexer": "ipython3",
   "version": "3.10.9"
  }
 },
 "nbformat": 4,
 "nbformat_minor": 2
}
